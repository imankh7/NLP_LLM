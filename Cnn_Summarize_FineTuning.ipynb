{
 "cells": [
  {
   "cell_type": "code",
   "execution_count": 1,
   "metadata": {
    "colab": {
     "base_uri": "https://localhost:8080/"
    },
    "id": "Feuh6pKyYcgX",
    "outputId": "c9a43ffd-5937-4d1f-fcaa-46c2171e7ef5"
   },
   "outputs": [
    {
     "name": "stdout",
     "output_type": "stream",
     "text": [
      "  Preparing metadata (setup.py) ... \u001b[?25l\u001b[?25hdone\n",
      "\u001b[2K   \u001b[90m━━━━━━━━━━━━━━━━━━━━━━━━━━━━━━━━━━━━━━━━\u001b[0m \u001b[32m84.1/84.1 kB\u001b[0m \u001b[31m6.4 MB/s\u001b[0m eta \u001b[36m0:00:00\u001b[0m\n",
      "\u001b[?25h  Building wheel for rouge_score (setup.py) ... \u001b[?25l\u001b[?25hdone\n"
     ]
    }
   ],
   "source": [
    "!pip install evaluate rouge_score --quiet"
   ]
  },
  {
   "cell_type": "code",
   "execution_count": null,
   "metadata": {
    "id": "4GhhP8RuS8O-"
   },
   "outputs": [],
   "source": [
    "from transformers import AutoTokenizer, BartTokenizer, BartForConditionalGeneration\n",
    "from datasets import load_dataset\n",
    "import spacy\n",
    "import evaluate"
   ]
  },
  {
   "cell_type": "code",
   "execution_count": null,
   "metadata": {
    "colab": {
     "base_uri": "https://localhost:8080/",
     "height": 435,
     "referenced_widgets": [
      "98c04fcfeecb4afea79a83982449de89",
      "e9f3ae7b72b64f4581ba15dd2b34700a",
      "f6ce737ea54f4d1b9a9654f3a68182da",
      "a54ed2053f24473891ac2a8e74383e16",
      "732e89a4058646d980deaf623b0a6f0e",
      "a3a30f505da14b6da74a69ad7d33b33c",
      "d0572ba6604447b5b3ea59bb0242472a",
      "963c3f8796e1417a965aef534f027d04",
      "4c85311c8e27496699ccd602643081de",
      "92baacf5eac84eb2a233160752caedf2",
      "a027c322f92c4bdaab119af7322d7adc",
      "1cf1bc9a94f8474aa83c6ab43788d3ff",
      "83596d8a97474b23800a9754a806eb8b",
      "f7b704602b9b4bb390442e80333c7ff1",
      "ce84ccd16db74b43b9afbde1db8d9cc1",
      "005328d4a9924b7d8be574a623c36f3a",
      "ac2f978eb4734786bf21e865fd7b6feb",
      "2d7b7d0adc8a49fab0d53bee9fcfe5c9",
      "a3740364864b487f96c713cf5d4883cf",
      "66a962f48ada41c183a08496c59bcec5",
      "e1be1fab8e4a4a4a8ab7bb9733928402",
      "537b76758ad9440097b0353a1af48018",
      "6ccb03b8aab44cf18f13326ef095ac67",
      "be40847a0ebc4ee3aba163bd5eee2577",
      "f337e7f02af349f09bdece58e3872802",
      "d2d915a9fce2482489da1061ddd3437f",
      "c4477daa038f4b8a9cabac7401103c7b",
      "5d44957052b54c2d83b31ad469322545",
      "fb1a2073a7484daca37bee8598b5092e",
      "b8303526eb174de193f9c2daa2e3803c",
      "5cdfccf20f0b42e1847fd30f0c98afd2",
      "8ccf24cbda324c01ae7e1c92705f6b7f",
      "e1df27f40e0a4f1aace12c46a30ce3f3",
      "e564f1ce4f724e33926701524abb8db5",
      "0f56274e69014e1497cb0944fac13779",
      "a3380cbc4e94477b924c7bddac78904e",
      "2a53bf9dd28c442288059e8b5b762c64",
      "52651d83a3d14aa6a5653fccaab62314",
      "0f68fa4c28da45979c4bb620e6ad5a10",
      "2f842a6d45e14dc08a7fbc77d5391ce4",
      "d128b06d92814b9299e6220d5637511b",
      "8fbd1592da79433d9a801a87cfe9afdc",
      "807c75752ab24b9baf0452298d9fc8a8",
      "8f3f6965351649948aefccf070982d81",
      "be53c97097684e9fb4221692238989ea",
      "bb06054638b94b658cba7c7cc75fb608",
      "60e2f37911fb443abaf1657330442c5e",
      "ea486b979059440f94d8b3b05d70c222",
      "da40d4cb5b204f13a92f3112f47c62f4",
      "ff8b364fcf824dc9ba987fa187157481",
      "341de4714cea4cbfa6c85c96a927d082",
      "4400fa154e9849a9aa52f1ba6ae4ca03",
      "66d8b5585d7f4ba6a9ad6a55ce1afabd",
      "d7cbf81ed7384996a3b68288ce4f5704",
      "ddeb1dcfd5854fa6af0c4500d419b153",
      "d1341c83c7ee427b9b5d28237c5c8b20",
      "e21ea08e8f354148a9bdb8c0a907e860",
      "16cbc5f50d274a8aad5c3af81d83491c",
      "422c55f1abcd479da0aaf3558ef395b5",
      "fe243bb0460a4c64bdb98c91cb83c851",
      "31867fa961a14bc49e363f5268fdd231",
      "b3f49a034caf40789cb949a72bba55a3",
      "bb16ac0c50114a7e872f715ef469605f",
      "4897cb71b9f14b57b7cb6c99819bcbe4",
      "7cf1d2161dd24ddf8012208d61b21204",
      "ff56e45f24214b06b9b30f1e054a9b6e",
      "4882001cd31a45c6a67b886aee6292f2",
      "040c616de2fa4426a8d314bd437d9b54",
      "2c191aeb1d89493a825db4d0fa3cc3d8",
      "407ccb231d1a4687ac8f194ce01cec8a",
      "a3b02256b72842ee8af48ea560892c79",
      "15aca70c10d44f3d9501c8d70be35c94",
      "f2a6b23d0a504ab883784f838709c397",
      "427b81e3d6ca4d5580d4ee0881d9bda8",
      "e43b9c4962ff43c9ba46df2b148ed750",
      "d66e28300e584580b8bb02f2a1eb0eab",
      "1e74288f448349e59f14510df07817ba",
      "144e1b5eb5c64a1a8454c45cf69c8cc8",
      "dd1993c544b04e268a5395bc192a58f4",
      "668a7b08d2b74acfaf23430ecedbbf5f",
      "6d93995ff2254bbdbf92a0ead8949bf6",
      "9d9cf10638bb448993277db74991252b",
      "d11575fe7f6541b5aaaf85f0bcf49276",
      "cde2776269fb4422bd92c48bf7cb14c8",
      "64a467e7be8146aaaaaafbd4d343ae1b",
      "dbc2219392504807ab123fa26f0a8cad",
      "04f48269974740529383717bf1b4868d",
      "ce0024ed044640fcb5110d19e392fd11",
      "28206fdda3604007bdfbd082eddef89d",
      "a3f7bce3814944e6bbb3a23d1d6e98be",
      "16237a8053d647948647e1e9d5d548fa",
      "dd49e4ad3e694ed9b76b93fb861ca31e",
      "270be0026cd64c6bb58c452c3e87be64",
      "f8217c413f334c82846aa17d8a5b545d",
      "22b8bf8ca1a54292bb4effe0a57adcc2",
      "837e33cb7b514c41bfd0a17b4de70a33",
      "0220cdc7faae424a9d57ff957c5eacfd",
      "3497297afc254ba1a69368eec055eb61",
      "effd6efb61414d63845eea5e902cf381"
     ]
    },
    "id": "DcUFpf7zTK7D",
    "outputId": "828d3564-0850-4a3f-f92a-934e91cb1387"
   },
   "outputs": [
    {
     "name": "stderr",
     "output_type": "stream",
     "text": [
      "/usr/local/lib/python3.11/dist-packages/huggingface_hub/utils/_auth.py:94: UserWarning: \n",
      "The secret `HF_TOKEN` does not exist in your Colab secrets.\n",
      "To authenticate with the Hugging Face Hub, create a token in your settings tab (https://huggingface.co/settings/tokens), set it as secret in your Google Colab and restart your session.\n",
      "You will be able to reuse this secret in all of your notebooks.\n",
      "Please note that authentication is recommended but still optional to access public models or datasets.\n",
      "  warnings.warn(\n"
     ]
    },
    {
     "data": {
      "application/vnd.jupyter.widget-view+json": {
       "model_id": "98c04fcfeecb4afea79a83982449de89",
       "version_major": 2,
       "version_minor": 0
      },
      "text/plain": [
       "README.md: 0.00B [00:00, ?B/s]"
      ]
     },
     "metadata": {},
     "output_type": "display_data"
    },
    {
     "data": {
      "application/vnd.jupyter.widget-view+json": {
       "model_id": "1cf1bc9a94f8474aa83c6ab43788d3ff",
       "version_major": 2,
       "version_minor": 0
      },
      "text/plain": [
       "train-00000-of-00003.parquet:   0%|          | 0.00/257M [00:00<?, ?B/s]"
      ]
     },
     "metadata": {},
     "output_type": "display_data"
    },
    {
     "data": {
      "application/vnd.jupyter.widget-view+json": {
       "model_id": "6ccb03b8aab44cf18f13326ef095ac67",
       "version_major": 2,
       "version_minor": 0
      },
      "text/plain": [
       "train-00001-of-00003.parquet:   0%|          | 0.00/257M [00:00<?, ?B/s]"
      ]
     },
     "metadata": {},
     "output_type": "display_data"
    },
    {
     "data": {
      "application/vnd.jupyter.widget-view+json": {
       "model_id": "e564f1ce4f724e33926701524abb8db5",
       "version_major": 2,
       "version_minor": 0
      },
      "text/plain": [
       "train-00002-of-00003.parquet:   0%|          | 0.00/259M [00:00<?, ?B/s]"
      ]
     },
     "metadata": {},
     "output_type": "display_data"
    },
    {
     "data": {
      "application/vnd.jupyter.widget-view+json": {
       "model_id": "be53c97097684e9fb4221692238989ea",
       "version_major": 2,
       "version_minor": 0
      },
      "text/plain": [
       "validation-00000-of-00001.parquet:   0%|          | 0.00/34.7M [00:00<?, ?B/s]"
      ]
     },
     "metadata": {},
     "output_type": "display_data"
    },
    {
     "data": {
      "application/vnd.jupyter.widget-view+json": {
       "model_id": "d1341c83c7ee427b9b5d28237c5c8b20",
       "version_major": 2,
       "version_minor": 0
      },
      "text/plain": [
       "test-00000-of-00001.parquet:   0%|          | 0.00/30.0M [00:00<?, ?B/s]"
      ]
     },
     "metadata": {},
     "output_type": "display_data"
    },
    {
     "data": {
      "application/vnd.jupyter.widget-view+json": {
       "model_id": "4882001cd31a45c6a67b886aee6292f2",
       "version_major": 2,
       "version_minor": 0
      },
      "text/plain": [
       "Generating train split:   0%|          | 0/287113 [00:00<?, ? examples/s]"
      ]
     },
     "metadata": {},
     "output_type": "display_data"
    },
    {
     "data": {
      "application/vnd.jupyter.widget-view+json": {
       "model_id": "144e1b5eb5c64a1a8454c45cf69c8cc8",
       "version_major": 2,
       "version_minor": 0
      },
      "text/plain": [
       "Generating validation split:   0%|          | 0/13368 [00:00<?, ? examples/s]"
      ]
     },
     "metadata": {},
     "output_type": "display_data"
    },
    {
     "data": {
      "application/vnd.jupyter.widget-view+json": {
       "model_id": "28206fdda3604007bdfbd082eddef89d",
       "version_major": 2,
       "version_minor": 0
      },
      "text/plain": [
       "Generating test split:   0%|          | 0/11490 [00:00<?, ? examples/s]"
      ]
     },
     "metadata": {},
     "output_type": "display_data"
    }
   ],
   "source": [
    "cnn_dt= load_dataset('cnn_dailymail', '3.0.0')"
   ]
  },
  {
   "cell_type": "code",
   "execution_count": null,
   "metadata": {
    "colab": {
     "base_uri": "https://localhost:8080/"
    },
    "id": "I0AGuMrXTTEC",
    "outputId": "3ed3623d-2fb2-40d3-a87e-3bd87b1b8cdc"
   },
   "outputs": [
    {
     "data": {
      "text/plain": [
       "DatasetDict({\n",
       "    train: Dataset({\n",
       "        features: ['article', 'highlights', 'id'],\n",
       "        num_rows: 287113\n",
       "    })\n",
       "    validation: Dataset({\n",
       "        features: ['article', 'highlights', 'id'],\n",
       "        num_rows: 13368\n",
       "    })\n",
       "    test: Dataset({\n",
       "        features: ['article', 'highlights', 'id'],\n",
       "        num_rows: 11490\n",
       "    })\n",
       "})"
      ]
     },
     "execution_count": 3,
     "metadata": {},
     "output_type": "execute_result"
    }
   ],
   "source": [
    "cnn_dt"
   ]
  },
  {
   "cell_type": "code",
   "execution_count": null,
   "metadata": {
    "colab": {
     "base_uri": "https://localhost:8080/"
    },
    "id": "PhuGbfS-TYur",
    "outputId": "f9529030-960c-4935-d09c-5621c92adc2e"
   },
   "outputs": [
    {
     "data": {
      "text/plain": [
       "{'article': 'LONDON, England (Reuters) -- Harry Potter star Daniel Radcliffe gains access to a reported £20 million ($41.1 million) fortune as he turns 18 on Monday, but he insists the money won\\'t cast a spell on him. Daniel Radcliffe as Harry Potter in \"Harry Potter and the Order of the Phoenix\" To the disappointment of gossip columnists around the world, the young actor says he has no plans to fritter his cash away on fast cars, drink and celebrity parties. \"I don\\'t plan to be one of those people who, as soon as they turn 18, suddenly buy themselves a massive sports car collection or something similar,\" he told an Australian interviewer earlier this month. \"I don\\'t think I\\'ll be particularly extravagant. \"The things I like buying are things that cost about 10 pounds -- books and CDs and DVDs.\" At 18, Radcliffe will be able to gamble in a casino, buy a drink in a pub or see the horror film \"Hostel: Part II,\" currently six places below his number one movie on the UK box office chart. Details of how he\\'ll mark his landmark birthday are under wraps. His agent and publicist had no comment on his plans. \"I\\'ll definitely have some sort of party,\" he said in an interview. \"Hopefully none of you will be reading about it.\" Radcliffe\\'s earnings from the first five Potter films have been held in a trust fund which he has not been able to touch. Despite his growing fame and riches, the actor says he is keeping his feet firmly on the ground. \"People are always looking to say \\'kid star goes off the rails,\\'\" he told reporters last month. \"But I try very hard not to go that way because it would be too easy for them.\" His latest outing as the boy wizard in \"Harry Potter and the Order of the Phoenix\" is breaking records on both sides of the Atlantic and he will reprise the role in the last two films.  Watch I-Reporter give her review of Potter\\'s latest » . There is life beyond Potter, however. The Londoner has filmed a TV movie called \"My Boy Jack,\" about author Rudyard Kipling and his son, due for release later this year. He will also appear in \"December Boys,\" an Australian film about four boys who escape an orphanage. Earlier this year, he made his stage debut playing a tortured teenager in Peter Shaffer\\'s \"Equus.\" Meanwhile, he is braced for even closer media scrutiny now that he\\'s legally an adult: \"I just think I\\'m going to be more sort of fair game,\" he told Reuters. E-mail to a friend . Copyright 2007 Reuters. All rights reserved.This material may not be published, broadcast, rewritten, or redistributed.',\n",
       " 'highlights': \"Harry Potter star Daniel Radcliffe gets £20M fortune as he turns 18 Monday .\\nYoung actor says he has no plans to fritter his cash away .\\nRadcliffe's earnings from first five Potter films have been held in trust fund .\",\n",
       " 'id': '42c027e4ff9730fbb3de84c1af0d2c506e41c3e4'}"
      ]
     },
     "execution_count": 4,
     "metadata": {},
     "output_type": "execute_result"
    }
   ],
   "source": [
    "cnn_dt['train'][0]"
   ]
  },
  {
   "cell_type": "code",
   "execution_count": null,
   "metadata": {
    "colab": {
     "base_uri": "https://localhost:8080/",
     "height": 122,
     "referenced_widgets": [
      "7d21c7fddd40427d8e6d6cb9f861ed0e",
      "6343472a65e94c9ca702c1dc3a6ea4e4",
      "220c768ba2aa43e784df355d6cae98d5",
      "26bbcf6ceebc4a0892164db1d045fb85",
      "cf0e3587c1414b37ab55e508dd4527ac",
      "d1a9a39be1dd4084bda7c748e50882c1",
      "5cad95e8d7904b3fab64629d3bfbaad5",
      "6ffbf23813a245a7b2dffe1df325b10d",
      "f7c208c5208d48f6850296541b1bb3b3",
      "3cf549066d134f95933fb2385e31f978",
      "a09589a3866941a19d306616a1e9d7a3"
     ]
    },
    "id": "tcr9Lop3TZBh",
    "outputId": "ea5b6b39-512d-4a85-e13f-c37485dbc12c"
   },
   "outputs": [
    {
     "data": {
      "application/vnd.jupyter.widget-view+json": {
       "model_id": "7d21c7fddd40427d8e6d6cb9f861ed0e",
       "version_major": 2,
       "version_minor": 0
      },
      "text/plain": [
       "Filter:   0%|          | 0/287113 [00:00<?, ? examples/s]"
      ]
     },
     "metadata": {},
     "output_type": "display_data"
    },
    {
     "data": {
      "text/plain": [
       "Dataset({\n",
       "    features: ['article', 'highlights', 'id'],\n",
       "    num_rows: 0\n",
       "})"
      ]
     },
     "execution_count": 5,
     "metadata": {},
     "output_type": "execute_result"
    }
   ],
   "source": [
    "# To ccheck empty and null\n",
    "cnn_dt['train'].filter(lambda example: len(example['article'])==0)"
   ]
  },
  {
   "cell_type": "code",
   "execution_count": null,
   "metadata": {
    "colab": {
     "base_uri": "https://localhost:8080/",
     "height": 122,
     "referenced_widgets": [
      "603c2d09830241a199b5cec9499a154e",
      "75e8a2e651f14e2d970174d74e56d210",
      "3b36a89cf3b3450b8cb877a5fcbe352f",
      "575f8b64ea1046768ae1d459e43dd606",
      "7c7cb152592147b8aed55010f472c157",
      "7bb976f6f2024b7cbb1c8a876b8129f8",
      "05738a95b13b4f41998003be48644580",
      "8b5b5d05adbf4534a30b24c1f3228fd0",
      "74d81a93a0484e58976324d60d27609b",
      "392d5b09c4c1483695e4e754e12138d8",
      "a1250cd254ce45bb86cda5b19453b997"
     ]
    },
    "id": "2EZpBEd5TcKu",
    "outputId": "d2405940-db6a-41dc-9697-ec2a0406bc0e"
   },
   "outputs": [
    {
     "data": {
      "application/vnd.jupyter.widget-view+json": {
       "model_id": "603c2d09830241a199b5cec9499a154e",
       "version_major": 2,
       "version_minor": 0
      },
      "text/plain": [
       "Filter:   0%|          | 0/287113 [00:00<?, ? examples/s]"
      ]
     },
     "metadata": {},
     "output_type": "display_data"
    },
    {
     "data": {
      "text/plain": [
       "Dataset({\n",
       "    features: ['article', 'highlights', 'id'],\n",
       "    num_rows: 0\n",
       "})"
      ]
     },
     "execution_count": 6,
     "metadata": {},
     "output_type": "execute_result"
    }
   ],
   "source": [
    "cnn_dt['train'].filter(lambda example: len(example['highlights'])==0)"
   ]
  },
  {
   "cell_type": "code",
   "execution_count": null,
   "metadata": {
    "colab": {
     "base_uri": "https://localhost:8080/",
     "height": 122,
     "referenced_widgets": [
      "7436c2077917407ba5e789f1e678d1cd",
      "6c3ddff00f4c4c6f961990e87ca0b047",
      "8efb3ebd552f45efb7f1cacad7c02876",
      "4b22a9ac979a4d768a634049c01ae2e3",
      "4dfcb31ed3604aa398e8c9d525a9ff97",
      "38177a2a73904e71b35edd93af965450",
      "95202087075d4768ae9fda748083b178",
      "bc03af45b3b04064a71c74a533cab017",
      "144fe76c2bc74b5f96ce37e01522922d",
      "8cd75892ff014fd4b3f5530c6265d697",
      "677153ead90d46fe965423990c89c58e"
     ]
    },
    "id": "6Li6h_mGTdv0",
    "outputId": "cadcc573-f561-4177-8a0e-554a1f10183c"
   },
   "outputs": [
    {
     "data": {
      "application/vnd.jupyter.widget-view+json": {
       "model_id": "7436c2077917407ba5e789f1e678d1cd",
       "version_major": 2,
       "version_minor": 0
      },
      "text/plain": [
       "Filter:   0%|          | 0/287113 [00:00<?, ? examples/s]"
      ]
     },
     "metadata": {},
     "output_type": "display_data"
    },
    {
     "data": {
      "text/plain": [
       "Dataset({\n",
       "    features: ['article', 'highlights', 'id'],\n",
       "    num_rows: 0\n",
       "})"
      ]
     },
     "execution_count": 7,
     "metadata": {},
     "output_type": "execute_result"
    }
   ],
   "source": [
    "cnn_dt['train'].filter(lambda example: len(example['id'])==0)\n"
   ]
  },
  {
   "cell_type": "code",
   "execution_count": null,
   "metadata": {
    "colab": {
     "base_uri": "https://localhost:8080/",
     "height": 227,
     "referenced_widgets": [
      "8682ac584650463da3258dbbad9e4b42",
      "17d71b22472f48148a502bd4d6dbb5be",
      "ba7517672050418197e5da3ae4320121",
      "750ee9d158bf4777a6fc2ed4f675029f",
      "a34904e2a3a34cc7b93676ac72358602",
      "de0f8858bf9d490d81f6faa3db3bb904",
      "4e7e4e6e9de04150826b4baddf5ae70c",
      "f29f562c72af44c082e5c320719d9229",
      "6056ca76e6d24988a6d2121c2b28e4ba",
      "c14f773b50fe4240892db350161759b5",
      "7c57a892c5db46a0ab5a4c62fe4e4195",
      "ddea30876c974de2b435622f23362cec",
      "550cf9533e7142dcacbb58b0b03fc2d2",
      "f928af1df7ad4a9da76694f78684e122",
      "546927534b0a41fc8be0c3540dfbd389",
      "e00d922514844ce3b4aac917120e57a4",
      "2ab21e87f2fe41a79fe259224d648869",
      "2150a719981a4a48beb04fde1918d7db",
      "295176f0ff4842f2900d6f8f88efbb48",
      "7d3b0225fdb44affa7656924dc9d4f0b",
      "f5230cf82de14a079f1118f951b8cf09",
      "6c9c5acee5fb42a6bcfd2568d7e82f04",
      "b81864c8aef84175a706e3812c979387",
      "ada46898ed2f4305848f838906da805f",
      "4a494e19401f43c5bad6784f948102c3",
      "493bb1dca1c144dbbc8481ecb91c479b",
      "d5ffa70f6e01498da9c51eb493e465ca",
      "9a893cbc2875449ba72f67df587bedf2",
      "e4ef6062d5e94689be018938c3e423ae",
      "198caa250ed64af9afd3eefba5682699",
      "03e7e349636946acb7c7186947b59d6e",
      "41237ddc36b342068c11e204ded82a2c",
      "4c5059e70a9f41529b48428bf03cbea9",
      "b7e2f2870cf14a7aa5cc8f93edc1b947",
      "73928edd06d0449bae2b9a19f1003043",
      "7b723781648c47d6a89c085884c1bc9c",
      "321ad040c1b94c6cabe4424b1f080cda",
      "3db3e2e886d7450eb626a51e2314357a",
      "443feddf45794bf2ac2f74191e354d28",
      "c556757a77c8462296b31b0ec518693d",
      "d4bcae3319ad450d8fe3c4478fe8c716",
      "4248d359941d474098b34d12a5277d90",
      "b288199ebdb74331bfe4f9dbbf6de096",
      "b117c9e22d0344058666657789a4b091",
      "a019f8550bee42f9aef7640e4f9761ed",
      "63fc8b142aa249458b6ce322318879d0",
      "8c15ebed127d470cb5d619ce20c6126c",
      "d5a5869180574b5aa639f423250778ac",
      "bb38aabe08a444dca932bb5476428570",
      "f2f0dc7db9d04e4f9870df82b109d895",
      "42a35c58512a44469536927bed2dd5ab",
      "9d6ae807b54148c3ab37293edf53d4fb",
      "43cc89a095c44e7cac4da64774bf314d",
      "f4f73cac3ca54f95a30ea90498c53c79",
      "343d55db41ca4488910cbc90725e4552",
      "d9eb297697f04a609a92210abd3eb2ab",
      "a54ca13277f648dc9fe076a65158d7d0",
      "d9a13a3d38d04ac0bf1f0e82cf9c4b85",
      "511e62b674df4d61a2fc76feae3710b8",
      "d69cfc228ca44a9e8bb3099766a51162",
      "dedc47b6b6f446a4a9d4360d6853d0b4",
      "a624e98042d44da5afdafef2dfeefb0a",
      "a5721b25d7ff438da8a9aac2601e9e76",
      "796ecde60fc24bfabbf388d5551451d5",
      "83de7e6c17124d09abdc4e47553c7008",
      "0f605730d4104eec94596e3d973fb7e1"
     ]
    },
    "id": "E8Sl2znoThin",
    "outputId": "26528b2e-11a2-4405-d649-6bda56be262a"
   },
   "outputs": [
    {
     "data": {
      "application/vnd.jupyter.widget-view+json": {
       "model_id": "8682ac584650463da3258dbbad9e4b42",
       "version_major": 2,
       "version_minor": 0
      },
      "text/plain": [
       "vocab.json: 0.00B [00:00, ?B/s]"
      ]
     },
     "metadata": {},
     "output_type": "display_data"
    },
    {
     "data": {
      "application/vnd.jupyter.widget-view+json": {
       "model_id": "ddea30876c974de2b435622f23362cec",
       "version_major": 2,
       "version_minor": 0
      },
      "text/plain": [
       "merges.txt: 0.00B [00:00, ?B/s]"
      ]
     },
     "metadata": {},
     "output_type": "display_data"
    },
    {
     "data": {
      "application/vnd.jupyter.widget-view+json": {
       "model_id": "b81864c8aef84175a706e3812c979387",
       "version_major": 2,
       "version_minor": 0
      },
      "text/plain": [
       "tokenizer.json: 0.00B [00:00, ?B/s]"
      ]
     },
     "metadata": {},
     "output_type": "display_data"
    },
    {
     "data": {
      "application/vnd.jupyter.widget-view+json": {
       "model_id": "b7e2f2870cf14a7aa5cc8f93edc1b947",
       "version_major": 2,
       "version_minor": 0
      },
      "text/plain": [
       "config.json: 0.00B [00:00, ?B/s]"
      ]
     },
     "metadata": {},
     "output_type": "display_data"
    },
    {
     "data": {
      "application/vnd.jupyter.widget-view+json": {
       "model_id": "a019f8550bee42f9aef7640e4f9761ed",
       "version_major": 2,
       "version_minor": 0
      },
      "text/plain": [
       "model.safetensors:   0%|          | 0.00/1.63G [00:00<?, ?B/s]"
      ]
     },
     "metadata": {},
     "output_type": "display_data"
    },
    {
     "data": {
      "application/vnd.jupyter.widget-view+json": {
       "model_id": "d9eb297697f04a609a92210abd3eb2ab",
       "version_major": 2,
       "version_minor": 0
      },
      "text/plain": [
       "generation_config.json:   0%|          | 0.00/363 [00:00<?, ?B/s]"
      ]
     },
     "metadata": {},
     "output_type": "display_data"
    },
    {
     "name": "stderr",
     "output_type": "stream",
     "text": [
      "Asking to truncate to max_length but no maximum length is provided and the model has no predefined maximum length. Default to no truncation.\n"
     ]
    }
   ],
   "source": [
    "# Summaraize first\n",
    "\n",
    "B_tokenizer = BartTokenizer.from_pretrained('facebook/bart-large-cnn')\n",
    "B_model = BartForConditionalGeneration.from_pretrained('facebook/bart-large-cnn')\n",
    "\n",
    "f_tokenized = B_tokenizer(cnn_dt['train'][0]['article'], return_tensors='pt', truncation=True)\n",
    "f_modeled = B_model.generate(**f_tokenized)"
   ]
  },
  {
   "cell_type": "code",
   "execution_count": null,
   "metadata": {
    "id": "fKSAsvO2TkzL"
   },
   "outputs": [],
   "source": [
    "summary_ids = B_model.generate(f_tokenized['input_ids'], num_beams=4,max_length=100, early_stopping=True)"
   ]
  },
  {
   "cell_type": "code",
   "execution_count": null,
   "metadata": {
    "colab": {
     "base_uri": "https://localhost:8080/",
     "height": 93
    },
    "id": "UKcGypk1TnqZ",
    "outputId": "ef7f378d-dc64-4b91-cec6-f32c908b5818"
   },
   "outputs": [
    {
     "name": "stdout",
     "output_type": "stream",
     "text": [
      "Harry Potter star Daniel Radcliffe turns 18 on Monday. He gains access to a reported £20 million ($41.1 million) fortune. Radcliffe's earnings from the first five Potter films have been held in a trust fund. Details of how he'll mark his landmark birthday are under wraps.\n"
     ]
    },
    {
     "data": {
      "application/vnd.google.colaboratory.intrinsic+json": {
       "type": "string"
      },
      "text/plain": [
       "\"Harry Potter star Daniel Radcliffe gets £20M fortune as he turns 18 Monday .\\nYoung actor says he has no plans to fritter his cash away .\\nRadcliffe's earnings from first five Potter films have been held in trust fund .\""
      ]
     },
     "execution_count": 10,
     "metadata": {},
     "output_type": "execute_result"
    }
   ],
   "source": [
    "decoded_summary = B_tokenizer.decode(summary_ids[0], skip_special_tokens=True)\n",
    "print(decoded_summary)\n",
    "cnn_dt['train'][0]['highlights']"
   ]
  },
  {
   "cell_type": "code",
   "execution_count": null,
   "metadata": {
    "colab": {
     "base_uri": "https://localhost:8080/"
    },
    "id": "neCwbHn8TpOU",
    "outputId": "2e1f9faf-3ad9-476a-8b71-c08bfcb2a54e"
   },
   "outputs": [
    {
     "name": "stderr",
     "output_type": "stream",
     "text": [
      "/tmp/ipython-input-1825773528.py:6: UserWarning: [W007] The model you're using has no word vectors loaded, so the result of the Doc.similarity method will be based on the tagger, parser and NER, which may not give useful similarity judgements. This may happen if you're using one of the small models, e.g. `en_core_web_sm`, which don't ship with word vectors and only use context-sensitive tensors. You can always add your own word vectors, or use one of the larger models instead if available.\n",
      "  doc1.similarity(doc2)\n"
     ]
    },
    {
     "data": {
      "text/plain": [
       "0.8422773480415344"
      ]
     },
     "execution_count": 11,
     "metadata": {},
     "output_type": "execute_result"
    }
   ],
   "source": [
    "nlp=spacy.load('en_core_web_sm')\n",
    "doc1 = nlp(decoded_summary)\n",
    "doc2 = nlp(cnn_dt['train'][0]['highlights'])\n",
    "doc1.similarity(doc2)"
   ]
  },
  {
   "cell_type": "code",
   "execution_count": null,
   "metadata": {
    "colab": {
     "base_uri": "https://localhost:8080/",
     "height": 122,
     "referenced_widgets": [
      "1b38c902e7bf4db39913a9e0f64e049d",
      "dded253657dc4a7d92a30ec1aa5f6a5d",
      "f2fcb0fd38fd4510af57edbcebd114dd",
      "bd31d635fcd5444da8cedace3201164f",
      "6b7d1f561ecf49378f5dfd842ec217fd",
      "dbd102dc31f84b8fa414ce92a0ed1449",
      "a70896daadc84410afd682f9844ef1ab",
      "d4ed8cd2e0cb4f27952f8ef4136f1e75",
      "6431a16fcc3a42d6a26df38c0c4e2ece",
      "e468d43decdc4f24a3cfd03dd626bee3",
      "9724e37fef604fb48333d8802f5e701b"
     ]
    },
    "id": "dozekYbhTulI",
    "outputId": "b4eab5d6-f8b5-4deb-b18e-af4633fd8359"
   },
   "outputs": [
    {
     "data": {
      "application/vnd.jupyter.widget-view+json": {
       "model_id": "1b38c902e7bf4db39913a9e0f64e049d",
       "version_major": 2,
       "version_minor": 0
      },
      "text/plain": [
       "Downloading builder script: 0.00B [00:00, ?B/s]"
      ]
     },
     "metadata": {},
     "output_type": "display_data"
    },
    {
     "data": {
      "text/plain": [
       "{'rouge1': np.float64(0.6136363636363635),\n",
       " 'rouge2': np.float64(0.372093023255814),\n",
       " 'rougeL': np.float64(0.5454545454545454),\n",
       " 'rougeLsum': np.float64(0.5681818181818182)}"
      ]
     },
     "execution_count": 14,
     "metadata": {},
     "output_type": "execute_result"
    }
   ],
   "source": [
    "# evaluation more coverying and technical\n",
    "\n",
    "rouge = evaluate.load('rouge')\n",
    "predictions = [decoded_summary]\n",
    "references = [cnn_dt['train'][0]['highlights']]\n",
    "\n",
    "rouge.compute(predictions=predictions, references=references)\n"
   ]
  },
  {
   "cell_type": "code",
   "execution_count": null,
   "metadata": {
    "id": "diNZPD0LW0fV"
   },
   "outputs": [],
   "source": []
  }
 ],
 "metadata": {
  "accelerator": "GPU",
  "colab": {
   "gpuType": "T4",
   "provenance": []
  },
  "kernelspec": {
   "display_name": "Python 3",
   "name": "python3"
  },
  "language_info": {
   "name": "python"
  }
 },
 "nbformat": 4,
 "nbformat_minor": 0
}
