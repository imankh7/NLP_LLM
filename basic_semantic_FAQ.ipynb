{
 "cells": [
  {
   "cell_type": "code",
   "execution_count": 1,
   "metadata": {
    "colab": {
     "base_uri": "https://localhost:8080/"
    },
    "id": "csCW6QMOvV_v",
    "outputId": "917d10da-6162-48da-d924-af216d477a9a"
   },
   "outputs": [
    {
     "name": "stdout",
     "output_type": "stream",
     "text": [
      "\u001b[2K   \u001b[90m━━━━━━━━━━━━━━━━━━━━━━━━━━━━━━━━━━━━━━━━\u001b[0m \u001b[32m363.4/363.4 MB\u001b[0m \u001b[31m2.6 MB/s\u001b[0m eta \u001b[36m0:00:00\u001b[0m\n",
      "\u001b[2K   \u001b[90m━━━━━━━━━━━━━━━━━━━━━━━━━━━━━━━━━━━━━━━━\u001b[0m \u001b[32m13.8/13.8 MB\u001b[0m \u001b[31m72.9 MB/s\u001b[0m eta \u001b[36m0:00:00\u001b[0m\n",
      "\u001b[2K   \u001b[90m━━━━━━━━━━━━━━━━━━━━━━━━━━━━━━━━━━━━━━━━\u001b[0m \u001b[32m24.6/24.6 MB\u001b[0m \u001b[31m57.8 MB/s\u001b[0m eta \u001b[36m0:00:00\u001b[0m\n",
      "\u001b[2K   \u001b[90m━━━━━━━━━━━━━━━━━━━━━━━━━━━━━━━━━━━━━━━━\u001b[0m \u001b[32m883.7/883.7 kB\u001b[0m \u001b[31m31.2 MB/s\u001b[0m eta \u001b[36m0:00:00\u001b[0m\n",
      "\u001b[2K   \u001b[90m━━━━━━━━━━━━━━━━━━━━━━━━━━━━━━━━━━━━━━━━\u001b[0m \u001b[32m664.8/664.8 MB\u001b[0m \u001b[31m2.1 MB/s\u001b[0m eta \u001b[36m0:00:00\u001b[0m\n",
      "\u001b[2K   \u001b[90m━━━━━━━━━━━━━━━━━━━━━━━━━━━━━━━━━━━━━━━━\u001b[0m \u001b[32m211.5/211.5 MB\u001b[0m \u001b[31m5.7 MB/s\u001b[0m eta \u001b[36m0:00:00\u001b[0m\n",
      "\u001b[2K   \u001b[90m━━━━━━━━━━━━━━━━━━━━━━━━━━━━━━━━━━━━━━━━\u001b[0m \u001b[32m56.3/56.3 MB\u001b[0m \u001b[31m12.7 MB/s\u001b[0m eta \u001b[36m0:00:00\u001b[0m\n",
      "\u001b[2K   \u001b[90m━━━━━━━━━━━━━━━━━━━━━━━━━━━━━━━━━━━━━━━━\u001b[0m \u001b[32m127.9/127.9 MB\u001b[0m \u001b[31m7.6 MB/s\u001b[0m eta \u001b[36m0:00:00\u001b[0m\n",
      "\u001b[2K   \u001b[90m━━━━━━━━━━━━━━━━━━━━━━━━━━━━━━━━━━━━━━━━\u001b[0m \u001b[32m207.5/207.5 MB\u001b[0m \u001b[31m6.3 MB/s\u001b[0m eta \u001b[36m0:00:00\u001b[0m\n",
      "\u001b[2K   \u001b[90m━━━━━━━━━━━━━━━━━━━━━━━━━━━━━━━━━━━━━━━━\u001b[0m \u001b[32m188.7/188.7 MB\u001b[0m \u001b[31m5.7 MB/s\u001b[0m eta \u001b[36m0:00:00\u001b[0m\n",
      "\u001b[2K   \u001b[90m━━━━━━━━━━━━━━━━━━━━━━━━━━━━━━━━━━━━━━━━\u001b[0m \u001b[32m21.1/21.1 MB\u001b[0m \u001b[31m43.3 MB/s\u001b[0m eta \u001b[36m0:00:00\u001b[0m\n",
      "\u001b[?25h"
     ]
    }
   ],
   "source": [
    "!pip install datasets transformers sentence-transformers --quiet"
   ]
  },
  {
   "cell_type": "code",
   "execution_count": 2,
   "metadata": {
    "colab": {
     "base_uri": "https://localhost:8080/",
     "height": 307,
     "referenced_widgets": [
      "a3c4a06243c64c74ab21f987a5a7afd7",
      "c093805638f04ab9b77bb87cb5868660",
      "3dec3aee117c430ebb855345f18d2fc3",
      "5c9ad8b114624c8da479c7aa634459e9",
      "158848275ee7499e9840a906a26b9396",
      "8a202c7699e04e52a29475e3538dc049",
      "52cb5034e3c14a5d818e7f609a6d4b0c",
      "20c4c60fe6fb4c30be3c2380d7855548",
      "13d0d81a5cc444888b21b1830d5104e5",
      "8835381710c4416f8b289b47079e312d",
      "d9b7fe7461ca4374a9f1ad2bf686385c",
      "c3b4de3298084fe095a6cb66833faea9",
      "7098f224f02640e19adbe78059cadbb2",
      "3c5c73a9e20c4c9c8a218cd3e38d93af",
      "8e14470b3bab49fc954d7c694d792431",
      "01515c1783454032bca6236e3f18c3e9",
      "2d31b9dcdc92428aa3e780d4c0c302b4",
      "267b0f41a5fd4bb59b473e9900bd5660",
      "9fc7f86f81cc41739fe26ced544c7403",
      "4f136fb1918e4fbf8949d364d9d953de",
      "d7fd021e7a9c4698a711a50eb48ca5d5",
      "0ba0b6ad9bf6475baa4fbd83591da6f1",
      "b75f4156ce034198aa7b8429d597fb35",
      "8195b6e8738f4aa795be6e16974de739",
      "bfff2a88599a40a59ad1a0b52e0f98ae",
      "cbdc19713bed47f69220fbac73c67d87",
      "6b3b430f46574806ba8a88bfbce0394d",
      "fd824dac16884f12b52f3de4a3ceca2f",
      "07ec40ca06474fbaae11f92b640aa74c",
      "6200cc7556cc45868883b18efcfffb1d",
      "990102cbd4ef4c3fa6632b3eb20b9f55",
      "5634cdd3ea0e470888d7c79c0def8f74",
      "6f166a32a5b54b39ab087bc63c060997",
      "de3ad0e8620949d5b0ac67f7b1b03f6e",
      "d004110c8e6840d9959d20a07edcc553",
      "6cc1e0e5278846458c82031063890be3",
      "d2bcc7f21e674f2d972ae4078f82bec6",
      "a88fd98dcfff4747af061a32be4d025c",
      "67a67c81cda545a2aef6cf91b0a94734",
      "a4c829e329f24bd3b5810f8d3ff63191",
      "a46c9ad5250b4b6bae47b69cf150b3d6",
      "5d34cafa96b34998a6a120322a7b055a",
      "373aae46ffd041658f98989a64bfa15d",
      "18f389a293ec4c7abb74ead5ec074b9d",
      "b558762638c24d3c93d1771d5edb1d31",
      "19870a2b71694f25abd44a397743d2dd",
      "e423fc1c147544bea68181e9c4694ce1",
      "f84090ca7a86454ca7c486c64c2a87e1",
      "01bb45a3513247fa960556e672a5b72b",
      "ee7a43706a5f472da45e405eb7d91862",
      "0e557d1a7e7a40c989745b2b6a3b7f02",
      "e0108472ef9e40c58869e79a3699b12b",
      "5a98fdee0ad74f2ab9c4d71564c0548b",
      "825c8b0ecba8416e8f0463e10e970f45",
      "67dae9be77e84612835eb377985941e7"
     ]
    },
    "id": "9UpTTiIuw9j3",
    "outputId": "478dc5f2-3acd-4792-a89c-d7ae0fa43943"
   },
   "outputs": [
    {
     "name": "stderr",
     "output_type": "stream",
     "text": [
      "/usr/local/lib/python3.11/dist-packages/huggingface_hub/utils/_auth.py:94: UserWarning: \n",
      "The secret `HF_TOKEN` does not exist in your Colab secrets.\n",
      "To authenticate with the Hugging Face Hub, create a token in your settings tab (https://huggingface.co/settings/tokens), set it as secret in your Google Colab and restart your session.\n",
      "You will be able to reuse this secret in all of your notebooks.\n",
      "Please note that authentication is recommended but still optional to access public models or datasets.\n",
      "  warnings.warn(\n"
     ]
    },
    {
     "data": {
      "application/vnd.jupyter.widget-view+json": {
       "model_id": "a3c4a06243c64c74ab21f987a5a7afd7",
       "version_major": 2,
       "version_minor": 0
      },
      "text/plain": [
       "README.md: 0.00B [00:00, ?B/s]"
      ]
     },
     "metadata": {},
     "output_type": "display_data"
    },
    {
     "data": {
      "application/vnd.jupyter.widget-view+json": {
       "model_id": "c3b4de3298084fe095a6cb66833faea9",
       "version_major": 2,
       "version_minor": 0
      },
      "text/plain": [
       "train-00000-of-00001.parquet:   0%|          | 0.00/14.5M [00:00<?, ?B/s]"
      ]
     },
     "metadata": {},
     "output_type": "display_data"
    },
    {
     "data": {
      "application/vnd.jupyter.widget-view+json": {
       "model_id": "b75f4156ce034198aa7b8429d597fb35",
       "version_major": 2,
       "version_minor": 0
      },
      "text/plain": [
       "validation-00000-of-00001.parquet:   0%|          | 0.00/1.82M [00:00<?, ?B/s]"
      ]
     },
     "metadata": {},
     "output_type": "display_data"
    },
    {
     "data": {
      "application/vnd.jupyter.widget-view+json": {
       "model_id": "de3ad0e8620949d5b0ac67f7b1b03f6e",
       "version_major": 2,
       "version_minor": 0
      },
      "text/plain": [
       "Generating train split:   0%|          | 0/87599 [00:00<?, ? examples/s]"
      ]
     },
     "metadata": {},
     "output_type": "display_data"
    },
    {
     "data": {
      "application/vnd.jupyter.widget-view+json": {
       "model_id": "b558762638c24d3c93d1771d5edb1d31",
       "version_major": 2,
       "version_minor": 0
      },
      "text/plain": [
       "Generating validation split:   0%|          | 0/10570 [00:00<?, ? examples/s]"
      ]
     },
     "metadata": {},
     "output_type": "display_data"
    }
   ],
   "source": [
    "from datasets import load_dataset\n",
    "from sentence_transformers import SentenceTransformer, util"
   ]
  },
  {
   "cell_type": "code",
   "execution_count": 3,
   "metadata": {
    "colab": {
     "base_uri": "https://localhost:8080/"
    },
    "id": "gq-94QyuxztZ",
    "outputId": "8c575f03-0d5d-49cb-af36-53f110302ceb"
   },
   "outputs": [
    {
     "data": {
      "text/plain": [
       "DatasetDict({\n",
       "    train: Dataset({\n",
       "        features: ['id', 'title', 'context', 'question', 'answers'],\n",
       "        num_rows: 87599\n",
       "    })\n",
       "    validation: Dataset({\n",
       "        features: ['id', 'title', 'context', 'question', 'answers'],\n",
       "        num_rows: 10570\n",
       "    })\n",
       "})"
      ]
     },
     "execution_count": 3,
     "metadata": {},
     "output_type": "execute_result"
    }
   ],
   "source": [
    "dataset = load_dataset(\"SQuAD\")\n",
    "dataset"
   ]
  },
  {
   "cell_type": "code",
   "execution_count": 4,
   "metadata": {
    "id": "jlJQ_t4dx_Tp"
   },
   "outputs": [],
   "source": [
    "dataset[\"train\"]=dataset[\"train\"].select(range(20))"
   ]
  },
  {
   "cell_type": "code",
   "execution_count": 5,
   "metadata": {
    "id": "s3jR3UJJyfqn"
   },
   "outputs": [],
   "source": [
    "QA_list=[]\n",
    "for example in dataset[\"train\"]:\n",
    "  question= example[\"question\"]\n",
    "  answer= example[\"answers\"][\"text\"][0]\n",
    "  QA_list.append((question,answer))\n"
   ]
  },
  {
   "cell_type": "code",
   "execution_count": 6,
   "metadata": {
    "colab": {
     "base_uri": "https://localhost:8080/",
     "height": 369,
     "referenced_widgets": [
      "3ab2cfbd76eb4697a510633e88ae7ab9",
      "d670d56ee0cd48fd8cbb1a02bd48efb0",
      "d3b997cec4c145b2a3bddd6f8c94c47c",
      "d52979c4e7b14c83b8d5d3ca29456824",
      "5bb73763ecbe49bf8d6f3c83ee14ccf0",
      "8010e08e5aa04d92b76c50eca3fe4106",
      "5ce44385e01947aba999a8b1dff6b666",
      "d6bb312a8afd43e19a6ba2cb7e16db74",
      "87057a9a25ec4ca68f96a4a4af873e22",
      "ab7c9decfbd94aa5bc796ca6563acebb",
      "1dccad2759954f75b2aa70c0a201d26e",
      "0c7f8b64e42d4b859fd812e28c4b0f98",
      "d3fb5e239a3d4b3ca2d24af3ad8b25d8",
      "52cdec3074134a1593bb8d7c5aa66a55",
      "a983b494dc35422da238b2fcc33fa11c",
      "31f5e2ef53eb4d7a8cb37bd4454c8ad8",
      "8b114a1b460d4d2bb2bff85ad137996a",
      "30650a50ae2d414594463afb8cb78388",
      "c4950a12fc96481796a3fc1e65740d71",
      "7629c2dad44c4fba9dba7d3f8cf79240",
      "c105202010604ab5b67a58cc5be20298",
      "30706bf1dd774663bce2fa05960d5c8e",
      "28ae63f1af0042309d678c10b53782f4",
      "96b64dd1c54c48e6b15a9a63b11dcd46",
      "e70c9c08c85443269ee05e5c5a305b57",
      "fba878d77c174f8c8960c4e9141d7941",
      "883260068d8f4af0a8e30d2bf60e2977",
      "802779e60fc9469d9234c24a322210d6",
      "69d68855f51e48dbafc7fcfe8a926706",
      "a98903e5b6164bc5805e25b39fee0ed8",
      "27850296898c403e9fc341a9a9aa336d",
      "09c8ae6b376f4d39b2cf349cbc25cc49",
      "c044035b94c24bd3892df0b24df12447",
      "01f74d9670e945dabaa41cb3be1b7a94",
      "30fcd2531eb64950bff88638fe14aa1b",
      "66e3c85d9776460ca3b6016c141ea60f",
      "920ce59d684c4ad8b68e4f27bd41b738",
      "e2baca40912f4e329ac75845184b049c",
      "681400c455d04245a22bfba7c8a8e7e8",
      "aed3315cf91c469b948625e387f2c66d",
      "a6aa897d2a054d249fcdfe24a6a90675",
      "36e62bc03c554f9893b493a83e584b91",
      "01e9fc700fc14899b499622c6d1b5c08",
      "cb44def8d63a42e183805221bd09ff29",
      "18081d86c82342a78acafcd4409e9d6e",
      "02230a3dbe0e4fa2b9a38c7837a406eb",
      "5a33fb41600d460c845a2fb1eace2ef4",
      "c1f07b903960487e856cf44fd7c0fe4e",
      "0423915337fc4feea956acd6e69f27be",
      "821e4421e4a0469bb930da7fd6157c5f",
      "5daccfd2c4244a5d999595297f566014",
      "72fe6c278d4b44c1a40575a3bca828b8",
      "9af9e5188c2b4bb48591760e78febc86",
      "be7c8d2285ad4467bf370ce5c7163f7e",
      "63849ed2110b4fd183fbe81689fd228d",
      "19511c797e6942af82c602d63551e7d8",
      "bbb679b2675e4697a23dec409c8bace6",
      "4a1504142b174d86a32bce73195c94eb",
      "e3d2c6e7934f4b4ea339766396ba19d4",
      "8fd86557f8c348fcb03880d64ab61d42",
      "7dc31a13d9fe4766ad662729ba8205ce",
      "6b3195efe6fa483e8616b2f076062af2",
      "6d06c40e7240473aaa86fc46bb7796c2",
      "9fe8b4922512454e8df69730b111e9c4",
      "cff28e1b9f404068826f0dca595591dc",
      "eee48cebda2c4547b1cf40382456db6f",
      "52d70ba038da42088515f4332cd3fb6c",
      "2db8cdd40a124a5db45dabbae05a4b39",
      "f84b29e60f014774bf03cca107695951",
      "95ec66091c2c47dc81eb1573f63c0196",
      "40e017ee785b4a4bb2881e8e443aad8e",
      "050d8c17292843d6a05bb4e28a6009c7",
      "3f8ca956ba5a4995b3ea47c85a8bd8de",
      "621603cdb2014e298920d30cb9021d3d",
      "e39b551543dc4473a83205a0e9f02711",
      "b4fcc13d005f4593875289ddc59c7342",
      "c69caa6b89234f51a10912bcf14d2f7a",
      "a14e3feb018c47819ac760a02cee57f5",
      "18f96c4ae84d4a7281e6fafa0a427f5e",
      "690905130917468c97c32d1ce7a1f8b8",
      "fb95aa79eb654a24bc46e277d165c6cb",
      "333735e658474da4810e99c4161594e7",
      "13d5f641609b437d9b31a0c026ac51a0",
      "0ef1f30030f04baca0084050ec1f1eb5",
      "eac24b0cfd9d435f9c8912b3c5a56da3",
      "69005694c91c4f2bae83207d987a2522",
      "136d2bf846ee41a29a23dbd18d4bc866",
      "d39a8288cd804f8daeb349531cc20923",
      "691d2cc3ceee4d47bead44b9364e7e7f",
      "00bf930d8e084c3c9667cc99b6cff479",
      "6af491595ba44b9085647cc329cd6b77",
      "5c371ea187ce453881aba06ada2e2fe3",
      "8b9fc2cbe39a4ca785745a302b333049",
      "e20e26f78dbd465aae4051dfac5bb14d",
      "46a60bca978c42b7a133d637a3ff9c30",
      "dc9203c936194dfab7dece5abe92c8c3",
      "202bb6c366e54daba404f82770dba593",
      "86e3cb2b735b4eb29ec5c4111c8ba332",
      "eeca222f671544efa126f1f00c8ad3ae",
      "ac8b3acb243644afb3b14f27fdbe8ac6",
      "f3b97a239fbe4d12b9b4abf76b5a62fc",
      "9ab2ff6e6f544c8f8cd390d0281972cd",
      "0f52fb492d504dd7a7519d1efadc192b",
      "7987258915bd4f2f850dd74e2cd7b29f",
      "10cc217bf4c64a5786d4f0dbaf53964e",
      "72ffc36b2aab47f78e732edc1bf01292",
      "d17fa3d2b47e4f88ac1f03abf96862ac",
      "9c61c9f8482342c8ae9696f35cf9b9f6",
      "40ae0940c91b49bb8092653cd460aa7f",
      "b16e5c6a6ebf44b481ba2ebe234b77a3",
      "43351cfb8f054143ac2df6db860fe0ee",
      "6f1e0ce7489e4c0380db741f96fffe3a",
      "758665ed94ad4018986297edf5df424b",
      "019461e1f99248f79259cbb27bdbc7ae",
      "ed795d842a2d4065a14522d27e69b406",
      "51e78160e77a4867a738ea879d854505",
      "22a9b361c1304ff99cc2dc655e5a905e",
      "2290f1d41abe4350adb867af2051734d",
      "d5a5bee212e04f8eba4b468d3d0ebb19",
      "d3c5f3a2f21741f08e9080c1afce8174",
      "068a1540862c4f8fb216d2b503abf738"
     ]
    },
    "id": "bqMJspPP0srq",
    "outputId": "c7871884-f8c7-4e9b-b50e-dcfa8f443181"
   },
   "outputs": [
    {
     "data": {
      "application/vnd.jupyter.widget-view+json": {
       "model_id": "3ab2cfbd76eb4697a510633e88ae7ab9",
       "version_major": 2,
       "version_minor": 0
      },
      "text/plain": [
       "modules.json:   0%|          | 0.00/349 [00:00<?, ?B/s]"
      ]
     },
     "metadata": {},
     "output_type": "display_data"
    },
    {
     "data": {
      "application/vnd.jupyter.widget-view+json": {
       "model_id": "0c7f8b64e42d4b859fd812e28c4b0f98",
       "version_major": 2,
       "version_minor": 0
      },
      "text/plain": [
       "config_sentence_transformers.json:   0%|          | 0.00/116 [00:00<?, ?B/s]"
      ]
     },
     "metadata": {},
     "output_type": "display_data"
    },
    {
     "data": {
      "application/vnd.jupyter.widget-view+json": {
       "model_id": "28ae63f1af0042309d678c10b53782f4",
       "version_major": 2,
       "version_minor": 0
      },
      "text/plain": [
       "README.md: 0.00B [00:00, ?B/s]"
      ]
     },
     "metadata": {},
     "output_type": "display_data"
    },
    {
     "data": {
      "application/vnd.jupyter.widget-view+json": {
       "model_id": "01f74d9670e945dabaa41cb3be1b7a94",
       "version_major": 2,
       "version_minor": 0
      },
      "text/plain": [
       "sentence_bert_config.json:   0%|          | 0.00/53.0 [00:00<?, ?B/s]"
      ]
     },
     "metadata": {},
     "output_type": "display_data"
    },
    {
     "data": {
      "application/vnd.jupyter.widget-view+json": {
       "model_id": "18081d86c82342a78acafcd4409e9d6e",
       "version_major": 2,
       "version_minor": 0
      },
      "text/plain": [
       "config.json:   0%|          | 0.00/612 [00:00<?, ?B/s]"
      ]
     },
     "metadata": {},
     "output_type": "display_data"
    },
    {
     "data": {
      "application/vnd.jupyter.widget-view+json": {
       "model_id": "19511c797e6942af82c602d63551e7d8",
       "version_major": 2,
       "version_minor": 0
      },
      "text/plain": [
       "model.safetensors:   0%|          | 0.00/90.9M [00:00<?, ?B/s]"
      ]
     },
     "metadata": {},
     "output_type": "display_data"
    },
    {
     "data": {
      "application/vnd.jupyter.widget-view+json": {
       "model_id": "52d70ba038da42088515f4332cd3fb6c",
       "version_major": 2,
       "version_minor": 0
      },
      "text/plain": [
       "tokenizer_config.json:   0%|          | 0.00/350 [00:00<?, ?B/s]"
      ]
     },
     "metadata": {},
     "output_type": "display_data"
    },
    {
     "data": {
      "application/vnd.jupyter.widget-view+json": {
       "model_id": "a14e3feb018c47819ac760a02cee57f5",
       "version_major": 2,
       "version_minor": 0
      },
      "text/plain": [
       "vocab.txt: 0.00B [00:00, ?B/s]"
      ]
     },
     "metadata": {},
     "output_type": "display_data"
    },
    {
     "data": {
      "application/vnd.jupyter.widget-view+json": {
       "model_id": "691d2cc3ceee4d47bead44b9364e7e7f",
       "version_major": 2,
       "version_minor": 0
      },
      "text/plain": [
       "tokenizer.json: 0.00B [00:00, ?B/s]"
      ]
     },
     "metadata": {},
     "output_type": "display_data"
    },
    {
     "data": {
      "application/vnd.jupyter.widget-view+json": {
       "model_id": "ac8b3acb243644afb3b14f27fdbe8ac6",
       "version_major": 2,
       "version_minor": 0
      },
      "text/plain": [
       "special_tokens_map.json:   0%|          | 0.00/112 [00:00<?, ?B/s]"
      ]
     },
     "metadata": {},
     "output_type": "display_data"
    },
    {
     "data": {
      "application/vnd.jupyter.widget-view+json": {
       "model_id": "43351cfb8f054143ac2df6db860fe0ee",
       "version_major": 2,
       "version_minor": 0
      },
      "text/plain": [
       "config.json:   0%|          | 0.00/190 [00:00<?, ?B/s]"
      ]
     },
     "metadata": {},
     "output_type": "display_data"
    }
   ],
   "source": [
    "model = SentenceTransformer('sentence-transformers/all-MiniLM-L6-v2')"
   ]
  },
  {
   "cell_type": "code",
   "execution_count": 7,
   "metadata": {
    "colab": {
     "base_uri": "https://localhost:8080/"
    },
    "id": "23aV4FTe2jOA",
    "outputId": "c65a6ffe-c191-47ed-bf89-6c5450d5c581"
   },
   "outputs": [
    {
     "name": "stderr",
     "output_type": "stream",
     "text": [
      "/usr/local/lib/python3.11/dist-packages/torch/nn/modules/module.py:1750: FutureWarning: `encoder_attention_mask` is deprecated and will be removed in version 4.55.0 for `BertSdpaSelfAttention.forward`.\n",
      "  return forward_call(*args, **kwargs)\n"
     ]
    }
   ],
   "source": [
    "questions=[]\n",
    "for question,answer in QA_list:\n",
    "  questions.append(question)\n",
    "\n",
    "encoded_qs= model.encode(questions)"
   ]
  },
  {
   "cell_type": "code",
   "execution_count": 8,
   "metadata": {
    "colab": {
     "base_uri": "https://localhost:8080/"
    },
    "id": "7qcWXuFB3n4m",
    "outputId": "bc951ab1-c71a-4209-df80-c39d2962b75e"
   },
   "outputs": [
    {
     "data": {
      "text/plain": [
       "['To whom did the Virgin Mary allegedly appear in 1858 in Lourdes France?',\n",
       " 'What is in front of the Notre Dame Main Building?',\n",
       " 'The Basilica of the Sacred heart at Notre Dame is beside to which structure?',\n",
       " 'What is the Grotto at Notre Dame?',\n",
       " 'What sits on top of the Main Building at Notre Dame?',\n",
       " 'When did the Scholastic Magazine of Notre dame begin publishing?',\n",
       " \"How often is Notre Dame's the Juggler published?\",\n",
       " 'What is the daily student paper at Notre Dame called?',\n",
       " 'How many student news papers are found at Notre Dame?',\n",
       " 'In what year did the student paper Common Sense begin publication at Notre Dame?',\n",
       " 'Where is the headquarters of the Congregation of the Holy Cross?',\n",
       " 'What is the primary seminary of the Congregation of the Holy Cross?',\n",
       " 'What is the oldest structure at Notre Dame?',\n",
       " 'What individuals live at Fatima House at Notre Dame?',\n",
       " 'Which prize did Frederick Buechner create?',\n",
       " 'How many BS level degrees are offered in the College of Engineering at Notre Dame?',\n",
       " 'In what year was the College of Engineering at Notre Dame formed?',\n",
       " 'Before the creation of the College of Engineering similar studies were carried out at which Notre Dame college?',\n",
       " 'How many departments are within the Stinson-Remick Hall of Engineering?',\n",
       " 'The College of Science began to offer civil engineering courses beginning at what time at Notre Dame?']"
      ]
     },
     "execution_count": 8,
     "metadata": {},
     "output_type": "execute_result"
    }
   ],
   "source": [
    "questions"
   ]
  },
  {
   "cell_type": "code",
   "execution_count": 9,
   "metadata": {
    "id": "XJZzvMk435HX"
   },
   "outputs": [],
   "source": [
    "# Here we enter the user query manually, later its user input\n",
    "user_query= 'which building in Notre Dame has the biggest age'\n",
    "encoded_query= model.encode(user_query)\n",
    "sim= util.cos_sim(encoded_query,encoded_qs)"
   ]
  },
  {
   "cell_type": "code",
   "execution_count": 10,
   "metadata": {
    "colab": {
     "base_uri": "https://localhost:8080/",
     "height": 72
    },
    "id": "r807PUTQ7gbk",
    "outputId": "67b57a64-a5bb-46d5-8f8c-e31f214f5db4"
   },
   "outputs": [
    {
     "data": {
      "text/plain": [
       "tensor([[0.2226, 0.6641, 0.5921, 0.5909, 0.6929, 0.4492, 0.3906, 0.4756, 0.4851,\n",
       "         0.3041, 0.1799, 0.1883, 0.7539, 0.5321, 0.1070, 0.4624, 0.5575, 0.5267,\n",
       "         0.2782, 0.4397]])"
      ]
     },
     "metadata": {},
     "output_type": "display_data"
    }
   ],
   "source": [
    "display(sim)"
   ]
  },
  {
   "cell_type": "code",
   "execution_count": 11,
   "metadata": {
    "colab": {
     "base_uri": "https://localhost:8080/"
    },
    "id": "EHdLKHUm6TFn",
    "outputId": "b36bbbaa-6c1f-4b2b-9ef0-0efd85a25586"
   },
   "outputs": [
    {
     "name": "stdout",
     "output_type": "stream",
     "text": [
      "tensor(0.7539) tensor(12)\n"
     ]
    }
   ],
   "source": [
    "best_idx= sim[0].argmax()\n",
    "best_id_score= sim[0][best_idx]\n",
    "print(best_id_score, best_idx)"
   ]
  },
  {
   "cell_type": "code",
   "execution_count": 12,
   "metadata": {
    "colab": {
     "base_uri": "https://localhost:8080/"
    },
    "id": "zfVjClFs7fIy",
    "outputId": "3f83e664-3e2a-486a-c967-cbed271f41f8"
   },
   "outputs": [
    {
     "data": {
      "text/plain": [
       "('What is the oldest structure at Notre Dame?', 'Old College')"
      ]
     },
     "execution_count": 12,
     "metadata": {},
     "output_type": "execute_result"
    }
   ],
   "source": [
    "QA_list[best_idx]"
   ]
  },
  {
   "cell_type": "code",
   "execution_count": null,
   "metadata": {
    "id": "Q2woERoO-eGE"
   },
   "outputs": [],
   "source": []
  }
 ],
 "metadata": {
  "accelerator": "GPU",
  "colab": {
   "gpuType": "T4",
   "provenance": []
  },
  "kernelspec": {
   "display_name": "Python 3",
   "name": "python3"
  },
  "language_info": {
   "name": "python"
  }
 },
 "nbformat": 4,
 "nbformat_minor": 0
}
